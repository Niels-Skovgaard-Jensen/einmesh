{
 "cells": [
  {
   "cell_type": "markdown",
   "metadata": {},
   "source": [
    "# Comparison between meshgrid and einmesh\n",
    "\n",
    "In this example we are going to show some of the justifying examples where i think einmesh makes code more readable, more maintainable and just simply shorter than the current standard meshgrid function. \n",
    "\n"
   ]
  },
  {
   "cell_type": "code",
   "execution_count": null,
   "metadata": {},
   "outputs": [],
   "source": [
    "from einmesh.numpy import einmesh"
   ]
  },
  {
   "cell_type": "markdown",
   "metadata": {},
   "source": [
    "A classic exam"
   ]
  },
  {
   "cell_type": "code",
   "execution_count": null,
   "metadata": {},
   "outputs": [],
   "source": [
    "import numpy as np\n",
    "from matplotlib import pyplot as plt\n",
    "\n",
    "x = np.arange(-5, 5, 1)\n",
    "y = np.arange(-5, 5, 1)\n",
    "xx, yy = np.meshgrid(x, y, sparse=True)\n",
    "\n",
    "z = np.sin(xx**2 + yy**2) / (xx**2 + yy**2)\n",
    "h = plt.contourf(x, y, z)  # often we plot something then"
   ]
  },
  {
   "cell_type": "markdown",
   "metadata": {},
   "source": [
    "Immediatly we see the weirdness of the current meshgrid function. Firstly, we define two variables to make our plot over, x and y, we then immediatly feed this to the meshgrid function and define two new variables, which turns out are the actual x and y we want for our computation, and call them xx and yy (as if to say that these are more x and y than x and y). \n",
    "\n",
    "We \n",
    "\n",
    "\n",
    "\n",
    "We first create x and y variables, which are never used again. But because they have"
   ]
  },
  {
   "cell_type": "code",
   "execution_count": null,
   "metadata": {},
   "outputs": [],
   "source": [
    "from einmesh import RangeSpace\n",
    "\n",
    "x, y = einmesh(\"x y\", x=RangeSpace(-5, 5), y=RangeSpace(-5, 5))\n",
    "z = np.sin(x**2 + y**2) / (x**2 + y**2)\n",
    "h = plt.contourf(x, y, z)  # often we plot something then"
   ]
  },
  {
   "cell_type": "code",
   "execution_count": null,
   "metadata": {},
   "outputs": [],
   "source": []
  },
  {
   "cell_type": "markdown",
   "metadata": {},
   "source": [
    "Just searching for meshgrid on Github gives a representation of what kinds of things people use the function for\n",
    "\n",
    "https://github.com/frozoul/4K-NeRF/blob/420897a6f5a473fba258dc428981759f91e96cdb/run.py#L263"
   ]
  },
  {
   "cell_type": "code",
   "execution_count": null,
   "metadata": {},
   "outputs": [],
   "source": [
    "@torch.no_grad()\n",
    "def compute_bbox_by_coarse_geo(model_class, model_path, thres):\n",
    "    print(\"compute_bbox_by_coarse_geo: start\")\n",
    "    eps_time = time.time()\n",
    "    model = utils.load_model(model_class, model_path)\n",
    "    interp = torch.stack(\n",
    "        torch.meshgrid(\n",
    "            torch.linspace(0, 1, model.world_size[0]),\n",
    "            torch.linspace(0, 1, model.world_size[1]),\n",
    "            torch.linspace(0, 1, model.world_size[2]),\n",
    "        ),\n",
    "        -1,\n",
    "    )\n",
    "    dense_xyz = model.xyz_min * (1 - interp) + model.xyz_max * interp\n",
    "    density = model.density(dense_xyz)\n",
    "    alpha = model.activate_density(density)\n",
    "    mask = alpha > thres\n",
    "    active_xyz = dense_xyz[mask]\n",
    "    xyz_min = active_xyz.amin(0)\n",
    "    xyz_max = active_xyz.amax(0)\n",
    "    print(\"compute_bbox_by_coarse_geo: xyz_min\", xyz_min)\n",
    "    print(\"compute_bbox_by_coarse_geo: xyz_max\", xyz_max)\n",
    "    eps_time = time.time() - eps_time\n",
    "    print(\"compute_bbox_by_coarse_geo: finish (eps time:\", eps_time, \"secs)\")\n",
    "    return xyz_min, xyz_max"
   ]
  },
  {
   "cell_type": "markdown",
   "metadata": {},
   "source": [
    "\n",
    "\n",
    "https://github.com/eaglewarrior/Machine-learning/blob/e419e77a0db226901a58c98eed0fe988efd009b3/pca.py#L45"
   ]
  },
  {
   "cell_type": "code",
   "execution_count": null,
   "metadata": {},
   "outputs": [],
   "source": [
    "# Visualising the Training set results\n",
    "from matplotlib.colors import ListedColormap\n",
    "\n",
    "X_set, y_set = X_train, y_train\n",
    "X1, X2 = np.meshgrid(\n",
    "    np.arange(start=X_set[:, 0].min() - 1, stop=X_set[:, 0].max() + 1, step=0.01),\n",
    "    np.arange(start=X_set[:, 1].min() - 1, stop=X_set[:, 1].max() + 1, step=0.01),\n",
    ")\n",
    "plt.contourf(\n",
    "    X1,\n",
    "    X2,\n",
    "    classifier.predict(np.array([X1.ravel(), X2.ravel()]).T).reshape(X1.shape),\n",
    "    alpha=0.75,\n",
    "    cmap=ListedColormap((\"red\", \"green\", \"blue\")),\n",
    ")"
   ]
  },
  {
   "cell_type": "code",
   "execution_count": null,
   "metadata": {},
   "outputs": [],
   "source": [
    "import torch\n",
    "from torch import nn\n",
    "\n",
    "transformer_model = nn.Transformer(nhead=2, num_encoder_layers=2, d_model=16)\n",
    "src = torch.rand((10, 16, 16))\n",
    "tgt = torch.rand((20, 16, 16))\n",
    "out = transformer_model(src, tgt)\n",
    "\n",
    "print(out.shape)"
   ]
  },
  {
   "cell_type": "code",
   "execution_count": null,
   "metadata": {
    "vscode": {
     "languageId": "swift"
    }
   },
   "outputs": [],
   "source": [
    "ni, nj, nk = 4, 5, 6\n",
    "si, sj, sk = 20, 10, 1\n",
    "\n",
    "xcorn = einmesh(\"* x\", x=RangeSpace(0, (ni + 1) * si, si))\n",
    "print(xcorn.shape)\n",
    "\n",
    "xcorn = np.arange(0, (ni + 1) * si, si)\n",
    "print(xcorn.shape)\n",
    "xcorn = np.repeat(xcorn, 2)\n",
    "xcorn = xcorn[1:-1]\n",
    "xcorn = np.tile(xcorn, 4 * nj * nk)\n",
    "print(xcorn.shape)"
   ]
  },
  {
   "cell_type": "code",
   "execution_count": null,
   "metadata": {},
   "outputs": [],
   "source": [
    "import numpy as np\n",
    "import pyvista as pv\n",
    "\n",
    "ni, nj, nk = 4, 5, 6\n",
    "si, sj, sk = 20, 10, 1\n",
    "\n",
    "xcorn = einmesh(\"x\", x=RangeSpace(0, (ni + 1) * si, si))\n",
    "\n",
    "\n",
    "xcorn = np.arange(0, (ni + 1) * si, si)\n",
    "xcorn = np.repeat(xcorn, 2)\n",
    "xcorn = xcorn[1:-1]\n",
    "xcorn = np.tile(xcorn, 4 * nj * nk)\n",
    "\n",
    "ycorn = np.arange(0, (nj + 1) * sj, sj)\n",
    "ycorn = np.repeat(ycorn, 2)\n",
    "ycorn = ycorn[1:-1]\n",
    "ycorn = np.tile(ycorn, (2 * ni, 2 * nk))\n",
    "ycorn = np.transpose(ycorn)\n",
    "ycorn = ycorn.flatten()\n",
    "\n",
    "zcorn = np.arange(0, (nk + 1) * sk, sk)\n",
    "zcorn = np.repeat(zcorn, 2)\n",
    "zcorn = zcorn[1:-1]\n",
    "zcorn = np.repeat(zcorn, (4 * ni * nj))\n",
    "\n",
    "corners = np.stack((xcorn, ycorn, zcorn))\n",
    "corners = corners.transpose()\n",
    "\n",
    "dims = np.asarray((ni, nj, nk)) + 1\n",
    "grid = pv.ExplicitStructuredGrid(dims, corners)\n",
    "grid = grid.compute_connectivity()\n",
    "grid.plot(show_edges=True)"
   ]
  },
  {
   "cell_type": "markdown",
   "metadata": {},
   "source": [
    "# Generating fake input for Deep Learning"
   ]
  }
 ],
 "metadata": {
  "kernelspec": {
   "display_name": ".venv",
   "language": "python",
   "name": "python3"
  },
  "language_info": {
   "codemirror_mode": {
    "name": "ipython",
    "version": 3
   },
   "file_extension": ".py",
   "mimetype": "text/x-python",
   "name": "python",
   "nbconvert_exporter": "python",
   "pygments_lexer": "ipython3",
   "version": "3.10.16"
  }
 },
 "nbformat": 4,
 "nbformat_minor": 2
}
