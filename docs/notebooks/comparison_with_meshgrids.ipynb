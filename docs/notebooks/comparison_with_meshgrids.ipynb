{
 "cells": [
  {
   "cell_type": "markdown",
   "metadata": {},
   "source": [
    "# Comparison between meshgrid and einmesh\n",
    "\n",
    "In this example we are going to show some of the justifying examples where i think einmesh makes code more readable, more maintainable and just simply shorter than the current standard meshgrid function. \n",
    "\n"
   ]
  },
  {
   "cell_type": "code",
   "execution_count": null,
   "metadata": {},
   "outputs": [],
   "source": [
    "import numpy as np\n",
    "import torch\n",
    "\n",
    "# Import einmesh for comparisons\n",
    "from einmesh import LinSpace\n",
    "from einmesh.numpy import einmesh as einmesh_np\n",
    "from einmesh.torch import einmesh as einmesh_torch"
   ]
  },
  {
   "cell_type": "markdown",
   "metadata": {},
   "source": [
    "## Direct comparisons: meshgrid vs einmesh\n",
    "\n",
    "For each common use case, we'll show the traditional meshgrid approach followed immediately by the einmesh equivalent."
   ]
  },
  {
   "cell_type": "markdown",
   "metadata": {},
   "source": [
    "### Example 1: Simple 2D grid (NumPy)\n",
    "\n",
    "**Traditional meshgrid approach:**\n",
    "\n",
    "The most common pattern for using a meshgrid function is probably for plotting a 2D surface. The standard way to do this is some variation of the below:"
   ]
  },
  {
   "cell_type": "code",
   "execution_count": null,
   "metadata": {},
   "outputs": [],
   "source": [
    "# Traditional NumPy meshgrid - 3 lines\n",
    "x = np.linspace(0, 10, 11)\n",
    "y = np.linspace(0, 5, 6)\n",
    "X, Y = np.meshgrid(x, y, indexing=\"ij\")\n",
    "\n",
    "print(\"Traditional 2D grid:\")\n",
    "print(f\"X shape: {X.shape}\")\n",
    "print(f\"Y shape: {Y.shape}\")"
   ]
  },
  {
   "cell_type": "markdown",
   "metadata": {},
   "source": [
    "Here there are a couple of annoyances with this approach\n",
    "1. Usually there are two variables assigned with almost the same name, x,y and X,Y. This is to differentiate between the linspace that meshgrid takes in, and the dimension that is actually being output. \n",
    "2. Indexing has to be specified, and it is not obvious from reading the code what the difference between the differnt indexing methods are\n",
    "3. The whole thing realies on positional arguments, which maybe acceptable with dimensions, but become really cumbersome for error-prone for very high dimensional use. "
   ]
  },
  {
   "cell_type": "markdown",
   "metadata": {},
   "source": [
    "**einmesh equivalent:**"
   ]
  },
  {
   "cell_type": "code",
   "execution_count": null,
   "metadata": {},
   "outputs": [],
   "source": [
    "# einmesh - 1 line, same result\n",
    "X_ein, Y_ein = einmesh_np(\"x y\", x=LinSpace(0, 10, 11), y=LinSpace(0, 5, 6))\n",
    "\n",
    "print(\"einmesh 2D grid:\")\n",
    "print(f\"X shape: {X_ein.shape}\")\n",
    "print(f\"Y shape: {Y_ein.shape}\")\n",
    "print(\"Results identical:\", np.allclose(X, X_ein) and np.allclose(Y, Y_ein))"
   ]
  },
  {
   "cell_type": "markdown",
   "metadata": {},
   "source": [
    "### Example 2: 3D grid with stacking (NumPy)\n",
    "\n",
    "**Traditional meshgrid approach:**\n",
    "\n",
    "Another common pattern is to need to stack the output dimsions of a meshgrid. In this case with 3 dimensions, we start to see how easily it could be to make a mistake in the x,y,z positions, both in the definitions, arguments, unpacking and stacking. Furthermore we have the common problem "
   ]
  },
  {
   "cell_type": "code",
   "execution_count": null,
   "metadata": {},
   "outputs": [],
   "source": [
    "# Traditional NumPy meshgrid - 5 lines\n",
    "x = np.linspace(-2, 2, 5)\n",
    "y = np.linspace(-1, 1, 3)\n",
    "z = np.linspace(0, 3, 4)\n",
    "X, Y, Z = np.meshgrid(x, y, z, indexing=\"ij\")\n",
    "coords_traditional = np.stack([X, Y, Z], axis=-1)\n",
    "\n",
    "print(\"Traditional 3D stacked grid:\")\n",
    "print(f\"Coordinates shape: {coords_traditional.shape}\")\n",
    "print(\"5 lines of code\")"
   ]
  },
  {
   "cell_type": "markdown",
   "metadata": {},
   "source": [
    "\n",
    "The code above is great at describing what is happening, but is not ideal for describing what is going to come out of all these operations. Just like einops, einmesh focuses on what is comming in and out, not what is happening under the hood. \n",
    "\n",
    "Thus in einmesh we can stack simply with the star operator, it is clear where the dimensions are collected and can easily relate the dimensions through the use of keyword arguments."
   ]
  },
  {
   "cell_type": "code",
   "execution_count": null,
   "metadata": {},
   "outputs": [],
   "source": [
    "# einmesh - 1 line, automatic stacking with '*'\n",
    "coords_ein = einmesh_np(\"x y z *\", x=LinSpace(-2, 2, 5), y=LinSpace(-1, 1, 3), z=LinSpace(0, 3, 4))\n",
    "\n",
    "print(\"einmesh 3D stacked grid:\")\n",
    "print(f\"Coordinates shape: {coords_ein.shape}\")\n",
    "print(\"Results identical:\", np.allclose(coords_traditional, coords_ein))"
   ]
  },
  {
   "cell_type": "markdown",
   "metadata": {},
   "source": [
    "### Example 6: Batch processing with stacked coordinates (PyTorch)\n",
    "\n",
    "**Traditional meshgrid approach:**"
   ]
  },
  {
   "cell_type": "code",
   "execution_count": null,
   "metadata": {},
   "outputs": [],
   "source": [
    "# Traditional PyTorch meshgrid - 8+ lines for multiple grids\n",
    "batch_sizes = [32, 64, 128]\n",
    "grids_traditional = []\n",
    "\n",
    "for size in batch_sizes:\n",
    "    x = torch.linspace(0, 1, size)\n",
    "    y = torch.linspace(0, 1, size)\n",
    "    X, Y = torch.meshgrid(x, y, indexing=\"ij\")\n",
    "    grid = torch.stack([X, Y], dim=-1)\n",
    "    grids_traditional.append(grid)\n",
    "    print(f\"Traditional grid {size}x{size} shape: {grid.shape}\")"
   ]
  },
  {
   "cell_type": "markdown",
   "metadata": {},
   "source": [
    "**einmesh equivalent:**"
   ]
  },
  {
   "cell_type": "code",
   "execution_count": null,
   "metadata": {},
   "outputs": [],
   "source": [
    "# einmesh - 4 lines with automatic stacking via '*'\n",
    "grids_ein = []\n",
    "for size in [32, 64, 128]:\n",
    "    grid = einmesh_torch(\"x y *\", x=LinSpace(0, 1, size), y=LinSpace(0, 1, size))\n",
    "    grids_ein.append(grid)\n",
    "    print(f\"einmesh grid {size}x{size} shape: {grid.shape}\")\n",
    "\n",
    "print(\"Results identical:\", all(torch.allclose(trad, ein) for trad, ein in zip(grids_traditional, grids_ein)))"
   ]
  },
  {
   "cell_type": "code",
   "execution_count": null,
   "metadata": {},
   "outputs": [],
   "source": []
  },
  {
   "cell_type": "markdown",
   "metadata": {},
   "source": [
    "= Your code becomes more backend agnostic\n",
    "\n",
    "Just like with einops, einmesh supports multiple matrix and tensor backends. This can feel like a small thing, but knowing that some complicated piece of code instantly works in numpy or jax, if you want to try, gives a flexibility that makes experiments a little more "
   ]
  },
  {
   "cell_type": "code",
   "execution_count": null,
   "metadata": {},
   "outputs": [],
   "source": [
    "from einmesh.jax import einmesh as einmesh_jax\n",
    "\n",
    "# Example: Same einmesh pattern across different backends\n",
    "\n",
    "# Define a common grid pattern\n",
    "pattern = \"x y *\"\n",
    "x_space = LinSpace(-1, 1, 50)\n",
    "y_space = LinSpace(-2, 2, 30)\n",
    "\n",
    "# NumPy backend\n",
    "coords_numpy = einmesh_np(pattern, x=x_space, y=y_space)\n",
    "print(\"NumPy backend:\")\n",
    "print(f\"  Shape: {coords_numpy.shape}\")\n",
    "print(f\"  Type: {type(coords_numpy)}\")\n",
    "print(\"  Backend: numpy\")\n",
    "\n",
    "# PyTorch backend\n",
    "coords_torch = einmesh_torch(pattern, x=x_space, y=y_space)\n",
    "print(\"\\nPyTorch backend:\")\n",
    "print(f\"  Shape: {coords_torch.shape}\")\n",
    "print(f\"  Type: {type(coords_torch)}\")\n",
    "print(\"  Backend: torch\")\n",
    "\n",
    "coords_jax = einmesh_jax(pattern, x=x_space, y=y_space)\n",
    "print(\"\\nJAX backend:\")\n",
    "print(f\"  Shape: {coords_jax.shape}\")\n",
    "print(f\"  Type: {type(coords_jax)}\")\n",
    "print(\"  Backend: jax\")\n",
    "\n",
    "# Verify results are equivalent\n",
    "print(\n",
    "    f\"\\nAll backends produce identical results: {np.allclose(coords_numpy, np.array(coords_jax)) and np.allclose(coords_numpy, coords_torch.numpy())}\"\n",
    ")"
   ]
  }
 ],
 "metadata": {
  "kernelspec": {
   "display_name": "einmesh (3.10.16)",
   "language": "python",
   "name": "python3"
  },
  "language_info": {
   "codemirror_mode": {
    "name": "ipython",
    "version": 3
   },
   "file_extension": ".py",
   "mimetype": "text/x-python",
   "name": "python",
   "nbconvert_exporter": "python",
   "pygments_lexer": "ipython3",
   "version": "3.10.16"
  }
 },
 "nbformat": 4,
 "nbformat_minor": 2
}
